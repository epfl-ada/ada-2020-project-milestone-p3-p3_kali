{
 "cells": [
  {
   "cell_type": "markdown",
   "metadata": {},
   "source": [
    "## 1.Load the data"
   ]
  },
  {
   "cell_type": "code",
   "execution_count": 37,
   "metadata": {},
   "outputs": [],
   "source": [
    "import pandas as pd\n",
    "import numpy as np\n",
    "import matplotlib.pyplot as plt\n",
    "import seaborn as sn\n",
    "import tweepy\n",
    "import datetime\n",
    "import calendar\n",
    "import seaborn as sns\n",
    "from sklearn.model_selection import train_test_split, cross_val_predict\n",
    "from sklearn.metrics import r2_score\n",
    "from sklearn.ensemble import GradientBoostingRegressor\n",
    "from sklearn.linear_model import Ridge\n",
    "\n",
    "DIR = \"./data/\"\n",
    "EGO_TIMELINES = DIR + \"EgoTimelines.txt\"\n",
    "EGO_ALTER_PROFILES = DIR + \"EgoAlterProfiles.txt\"\n",
    "\n",
    "ego_timelines = pd.read_csv(EGO_TIMELINES, sep='\\t',encoding = \"ISO-8859-1\")\n",
    "ego_alter = pd.read_csv( EGO_ALTER_PROFILES, sep='\\t',encoding = \"ISO-8859-1\")"
   ]
  },
  {
   "cell_type": "markdown",
   "metadata": {},
   "source": [
    "## 2.Merge the ego's timelines and profiles\n",
    "\n",
    "This part is similar to the one some of us did in the replication part of P4. \n",
    "\n",
    "In the first part, we want to change the strings in `created_at` to datetimes."
   ]
  },
  {
   "cell_type": "code",
   "execution_count": 7,
   "metadata": {},
   "outputs": [],
   "source": [
    "ego_timelines['created_at'] = ego_timelines['created_at'].apply(lambda x: x.replace('+0000', ''))\n",
    "ego_timelines['created_at'] = ego_timelines['created_at'].apply(lambda x: datetime.datetime.strptime(x, \"%a %b %d %H:%M:%S %Y\"))"
   ]
  },
  {
   "cell_type": "code",
   "execution_count": 8,
   "metadata": {},
   "outputs": [],
   "source": [
    "ego_alter['created_at'] = ego_alter['created_at'].apply(lambda x: x.replace('+0000', ''))\n",
    "ego_alter['created_at'] = ego_alter['created_at'].apply(lambda x: datetime.datetime.strptime(x, \"%a %b %d %H:%M:%S %Y\"))"
   ]
  },
  {
   "cell_type": "markdown",
   "metadata": {},
   "source": [
    "We decided not to follow the step from the replication to use only egos which have a defined `utc_offset` as we reckon it does not affect our result too much, it would only affect tweets made on the first or last day of the month."
   ]
  },
  {
   "cell_type": "code",
   "execution_count": 9,
   "metadata": {},
   "outputs": [],
   "source": [
    "egos_only = ego_alter[ego_alter['IsEgo']]"
   ]
  },
  {
   "cell_type": "markdown",
   "metadata": {},
   "source": [
    "We merge the two datasets, based on the ID that was assigned to them by the authors of the paper."
   ]
  },
  {
   "cell_type": "code",
   "execution_count": 10,
   "metadata": {},
   "outputs": [],
   "source": [
    "merged = ego_timelines.merge(egos_only, left_on = 'egoID', right_on = 'ID', suffixes = ('_timelines', '_profiles'))"
   ]
  },
  {
   "cell_type": "markdown",
   "metadata": {},
   "source": [
    "We add three columns representing the month and the year at which the tweet was posted and the year at which the account was created."
   ]
  },
  {
   "cell_type": "code",
   "execution_count": 11,
   "metadata": {},
   "outputs": [],
   "source": [
    "merged['month_post'] = merged['created_at_timelines'].apply(lambda x: calendar.month_abbr[x.month])\n",
    "merged['year_post'] = merged['created_at_timelines'].apply(lambda x: x.year)\n",
    "merged['year_account'] = merged['created_at_profiles'].apply(lambda x: x.year)"
   ]
  },
  {
   "cell_type": "code",
   "execution_count": 12,
   "metadata": {},
   "outputs": [
    {
     "data": {
      "text/html": [
       "<div>\n",
       "<style scoped>\n",
       "    .dataframe tbody tr th:only-of-type {\n",
       "        vertical-align: middle;\n",
       "    }\n",
       "\n",
       "    .dataframe tbody tr th {\n",
       "        vertical-align: top;\n",
       "    }\n",
       "\n",
       "    .dataframe thead th {\n",
       "        text-align: right;\n",
       "    }\n",
       "</style>\n",
       "<table border=\"1\" class=\"dataframe\">\n",
       "  <thead>\n",
       "    <tr style=\"text-align: right;\">\n",
       "      <th></th>\n",
       "      <th>replyto_userid</th>\n",
       "      <th>retweeted_userid</th>\n",
       "      <th>id</th>\n",
       "      <th>tweetid</th>\n",
       "      <th>created_at_timelines</th>\n",
       "      <th>hashtags</th>\n",
       "      <th>urls</th>\n",
       "      <th>mentions_ids</th>\n",
       "      <th>retweet_count</th>\n",
       "      <th>egoID</th>\n",
       "      <th>...</th>\n",
       "      <th>followers_count</th>\n",
       "      <th>friends_count</th>\n",
       "      <th>statuses_count</th>\n",
       "      <th>utc_offset</th>\n",
       "      <th>lang</th>\n",
       "      <th>created_at_profiles</th>\n",
       "      <th>protected</th>\n",
       "      <th>month_post</th>\n",
       "      <th>year_post</th>\n",
       "      <th>year_account</th>\n",
       "    </tr>\n",
       "  </thead>\n",
       "  <tbody>\n",
       "    <tr>\n",
       "      <th>0</th>\n",
       "      <td>NaN</td>\n",
       "      <td>NaN</td>\n",
       "      <td>398477318</td>\n",
       "      <td>249552537051598848</td>\n",
       "      <td>2012-09-22 16:55:35</td>\n",
       "      <td>NaN</td>\n",
       "      <td>NaN</td>\n",
       "      <td>2810549959</td>\n",
       "      <td>0</td>\n",
       "      <td>1</td>\n",
       "      <td>...</td>\n",
       "      <td>30.0</td>\n",
       "      <td>28</td>\n",
       "      <td>9.0</td>\n",
       "      <td>NaN</td>\n",
       "      <td>en</td>\n",
       "      <td>2011-10-26 03:30:32</td>\n",
       "      <td>False</td>\n",
       "      <td>Sep</td>\n",
       "      <td>2012</td>\n",
       "      <td>2011</td>\n",
       "    </tr>\n",
       "    <tr>\n",
       "      <th>1</th>\n",
       "      <td>NaN</td>\n",
       "      <td>NaN</td>\n",
       "      <td>398477318</td>\n",
       "      <td>249537963145433088</td>\n",
       "      <td>2012-09-22 15:57:41</td>\n",
       "      <td>NaN</td>\n",
       "      <td>NaN</td>\n",
       "      <td>2810549959</td>\n",
       "      <td>0</td>\n",
       "      <td>1</td>\n",
       "      <td>...</td>\n",
       "      <td>30.0</td>\n",
       "      <td>28</td>\n",
       "      <td>9.0</td>\n",
       "      <td>NaN</td>\n",
       "      <td>en</td>\n",
       "      <td>2011-10-26 03:30:32</td>\n",
       "      <td>False</td>\n",
       "      <td>Sep</td>\n",
       "      <td>2012</td>\n",
       "      <td>2011</td>\n",
       "    </tr>\n",
       "    <tr>\n",
       "      <th>2</th>\n",
       "      <td>NaN</td>\n",
       "      <td>NaN</td>\n",
       "      <td>398477318</td>\n",
       "      <td>129377372209299456</td>\n",
       "      <td>2011-10-27 02:02:23</td>\n",
       "      <td>NaN</td>\n",
       "      <td>NaN</td>\n",
       "      <td>NaN</td>\n",
       "      <td>0</td>\n",
       "      <td>1</td>\n",
       "      <td>...</td>\n",
       "      <td>30.0</td>\n",
       "      <td>28</td>\n",
       "      <td>9.0</td>\n",
       "      <td>NaN</td>\n",
       "      <td>en</td>\n",
       "      <td>2011-10-26 03:30:32</td>\n",
       "      <td>False</td>\n",
       "      <td>Oct</td>\n",
       "      <td>2011</td>\n",
       "      <td>2011</td>\n",
       "    </tr>\n",
       "    <tr>\n",
       "      <th>3</th>\n",
       "      <td>NaN</td>\n",
       "      <td>NaN</td>\n",
       "      <td>398477318</td>\n",
       "      <td>302401054690140160</td>\n",
       "      <td>2013-02-15 12:56:44</td>\n",
       "      <td>NaN</td>\n",
       "      <td>NaN</td>\n",
       "      <td>797583722</td>\n",
       "      <td>0</td>\n",
       "      <td>1</td>\n",
       "      <td>...</td>\n",
       "      <td>30.0</td>\n",
       "      <td>28</td>\n",
       "      <td>9.0</td>\n",
       "      <td>NaN</td>\n",
       "      <td>en</td>\n",
       "      <td>2011-10-26 03:30:32</td>\n",
       "      <td>False</td>\n",
       "      <td>Feb</td>\n",
       "      <td>2013</td>\n",
       "      <td>2011</td>\n",
       "    </tr>\n",
       "    <tr>\n",
       "      <th>4</th>\n",
       "      <td>NaN</td>\n",
       "      <td>NaN</td>\n",
       "      <td>398477318</td>\n",
       "      <td>249538739611787264</td>\n",
       "      <td>2012-09-22 16:00:46</td>\n",
       "      <td>NaN</td>\n",
       "      <td>NaN</td>\n",
       "      <td>2810549959</td>\n",
       "      <td>0</td>\n",
       "      <td>1</td>\n",
       "      <td>...</td>\n",
       "      <td>30.0</td>\n",
       "      <td>28</td>\n",
       "      <td>9.0</td>\n",
       "      <td>NaN</td>\n",
       "      <td>en</td>\n",
       "      <td>2011-10-26 03:30:32</td>\n",
       "      <td>False</td>\n",
       "      <td>Sep</td>\n",
       "      <td>2012</td>\n",
       "      <td>2011</td>\n",
       "    </tr>\n",
       "  </tbody>\n",
       "</table>\n",
       "<p>5 rows × 25 columns</p>\n",
       "</div>"
      ],
      "text/plain": [
       "   replyto_userid  retweeted_userid         id             tweetid  \\\n",
       "0             NaN               NaN  398477318  249552537051598848   \n",
       "1             NaN               NaN  398477318  249537963145433088   \n",
       "2             NaN               NaN  398477318  129377372209299456   \n",
       "3             NaN               NaN  398477318  302401054690140160   \n",
       "4             NaN               NaN  398477318  249538739611787264   \n",
       "\n",
       "  created_at_timelines hashtags urls mentions_ids  retweet_count  egoID  ...  \\\n",
       "0  2012-09-22 16:55:35      NaN  NaN   2810549959              0      1  ...   \n",
       "1  2012-09-22 15:57:41      NaN  NaN   2810549959              0      1  ...   \n",
       "2  2011-10-27 02:02:23      NaN  NaN          NaN              0      1  ...   \n",
       "3  2013-02-15 12:56:44      NaN  NaN    797583722              0      1  ...   \n",
       "4  2012-09-22 16:00:46      NaN  NaN   2810549959              0      1  ...   \n",
       "\n",
       "   followers_count  friends_count statuses_count  utc_offset  lang  \\\n",
       "0             30.0             28            9.0         NaN    en   \n",
       "1             30.0             28            9.0         NaN    en   \n",
       "2             30.0             28            9.0         NaN    en   \n",
       "3             30.0             28            9.0         NaN    en   \n",
       "4             30.0             28            9.0         NaN    en   \n",
       "\n",
       "   created_at_profiles  protected  month_post  year_post year_account  \n",
       "0  2011-10-26 03:30:32      False         Sep       2012         2011  \n",
       "1  2011-10-26 03:30:32      False         Sep       2012         2011  \n",
       "2  2011-10-26 03:30:32      False         Oct       2011         2011  \n",
       "3  2011-10-26 03:30:32      False         Feb       2013         2011  \n",
       "4  2011-10-26 03:30:32      False         Sep       2012         2011  \n",
       "\n",
       "[5 rows x 25 columns]"
      ]
     },
     "execution_count": 12,
     "metadata": {},
     "output_type": "execute_result"
    }
   ],
   "source": [
    "merged.head()"
   ]
  },
  {
   "cell_type": "markdown",
   "metadata": {},
   "source": [
    "## 3.Barplot of the number of tweets per month\n",
    "\n",
    "We will select only the tweets of a given year, done by user which account was created before the start of this year. This is done as a way to reduce bias as a user whose account was created in June could not have posted any tweets before."
   ]
  },
  {
   "cell_type": "code",
   "execution_count": 13,
   "metadata": {},
   "outputs": [],
   "source": [
    "month_count_2011 = merged['month_post'][(merged['year_post'] == 2011) & (merged['year_account'] < 2011)].value_counts()\n",
    "month_count_2012 = merged['month_post'][(merged['year_post'] == 2012) & (merged['year_account'] < 2012)].value_counts()\n",
    "month_count_2013 = merged['month_post'][(merged['year_post'] == 2013) & (merged['year_account'] < 2013)].value_counts()"
   ]
  },
  {
   "cell_type": "markdown",
   "metadata": {},
   "source": [
    "We sort the counts by the months so that we can generate graph that can be read from left to right"
   ]
  },
  {
   "cell_type": "code",
   "execution_count": 47,
   "metadata": {},
   "outputs": [],
   "source": [
    "months = [\"Jan\", \"Feb\", \"Mar\", \"Apr\", \"May\", \"Jun\", \n",
    "          \"Jul\", \"Aug\", \"Sep\", \"Oct\", \"Nov\", \"Dec\"]\n",
    "\n",
    "month_count_2011 = month_count_2011.reindex(months, axis=0)\n",
    "month_count_2012 = month_count_2012.reindex(months, axis=0)\n",
    "month_count_2013 = month_count_2013.reindex(months, axis=0)"
   ]
  },
  {
   "cell_type": "code",
   "execution_count": 48,
   "metadata": {},
   "outputs": [
    {
     "data": {
      "image/png": "[encoded data removed]",
      "text/plain": [
       "<Figure size 432x288 with 1 Axes>"
      ]
     },
     "metadata": {
      "needs_background": "light"
     },
     "output_type": "display_data"
    }
   ],
   "source": [
    "\n",
    "month_count_2011.plot.bar()\n",
    "plt.title(\"Number of tweets per month in 2011\")\n",
    "plt.xlabel(\"Month\")\n",
    "plt.ylabel(\"Number of tweets\")\n",
    "plt.savefig(\"month2011.png\")"
   ]
  },
  {
   "cell_type": "code",
   "execution_count": 49,
   "metadata": {},
   "outputs": [
    {
     "data": {
      "image/png": "[encoded data removed]",
      "text/plain": [
       "<Figure size 432x288 with 1 Axes>"
      ]
     },
     "metadata": {
      "needs_background": "light"
     },
     "output_type": "display_data"
    }
   ],
   "source": [
    "month_count_2012.plot.bar()\n",
    "plt.title(\"Number of tweets per month in 2012\")\n",
    "plt.xlabel(\"Month\")\n",
    "plt.ylabel(\"Number of tweets\")\n",
    "plt.savefig(\"month2012.png\")"
   ]
  },
  {
   "cell_type": "code",
   "execution_count": 50,
   "metadata": {},
   "outputs": [
    {
     "data": {
      "image/png": "[encoded data removed]",
      "text/plain": [
       "<Figure size 432x288 with 1 Axes>"
      ]
     },
     "metadata": {
      "needs_background": "light"
     },
     "output_type": "display_data"
    }
   ],
   "source": [
    "month_count_2013.plot.bar()\n",
    "plt.title(\"Number of tweets per month in 2013\")\n",
    "plt.xlabel(\"Month\")\n",
    "plt.ylabel(\"Number of tweets\")\n",
    "plt.savefig(\"month2013.png\")"
   ]
  },
  {
   "cell_type": "markdown",
   "metadata": {},
   "source": [
    "We observe multiple things:\n",
    "* The number of tweets increases each year pretty drastically. The more tweets, the more the distribution between the months seems uniform\n",
    "* The month with less activity seems to be the first month of the year"
   ]
  },
  {
   "cell_type": "code",
   "execution_count": 56,
   "metadata": {},
   "outputs": [
    {
     "data": {
      "text/plain": [
       "'Dec'"
      ]
     },
     "execution_count": 56,
     "metadata": {},
     "output_type": "execute_result"
    }
   ],
   "source": [
    "month_count_2011.index[month_count_2011.argmax()]"
   ]
  },
  {
   "cell_type": "code",
   "execution_count": 57,
   "metadata": {},
   "outputs": [
    {
     "data": {
      "text/plain": [
       "'Jun'"
      ]
     },
     "execution_count": 57,
     "metadata": {},
     "output_type": "execute_result"
    }
   ],
   "source": [
    "month_count_2012.index[month_count_2012.argmax()] "
   ]
  },
  {
   "cell_type": "code",
   "execution_count": 58,
   "metadata": {},
   "outputs": [
    {
     "data": {
      "text/plain": [
       "'Oct'"
      ]
     },
     "execution_count": 58,
     "metadata": {},
     "output_type": "execute_result"
    }
   ],
   "source": [
    "month_count_2013.index[month_count_2013.argmax()]"
   ]
  },
  {
   "cell_type": "markdown",
   "metadata": {},
   "source": [
    "We cannot deduce from these plots that there is some kind of Circadian rhythms in the months. However what seems to be more realistic, is that people tend to react according to what happens during the year. Take for example the [EURO 2012](https://en.wikipedia.org/wiki/UEFA_Euro_2012) which happened during the month of June and July . This year, the spanish team won the cup. Let's see if it has influenced how much they've published in june compared to other years:"
   ]
  },
  {
   "cell_type": "code",
   "execution_count": 90,
   "metadata": {},
   "outputs": [],
   "source": [
    "#Take all people that have put as their main language spanish\n",
    "spanish_tweets_2011 = merged['month_post'][(merged['year_post'] == 2011) & (merged['year_account'] < 2011) &\\\n",
    "                                        (merged['lang'] == 'es' )].value_counts()\n",
    "\n",
    "spanish_tweets_2012 = merged['month_post'][(merged['year_post'] == 2012) & (merged['year_account'] < 2012) &\\\n",
    "                                        (merged['lang'] == 'es' )].value_counts()\n",
    "spanish_tweets_2013 = merged['month_post'][(merged['year_post'] == 2013) & (merged['year_account'] < 2013) &\\\n",
    "                                        (merged['lang'] == 'es' )].value_counts()\n",
    "\n",
    "spanish_tweets_2011 = spanish_tweets_2011.reindex(months, axis = 0)\n",
    "spanish_tweets_2012 = spanish_tweets_2012.reindex(months, axis = 0)\n",
    "spanish_tweets_2013 = spanish_tweets_2013.reindex(months, axis = 0)"
   ]
  },
  {
   "cell_type": "code",
   "execution_count": null,
   "metadata": {},
   "outputs": [],
   "source": []
  },
  {
   "cell_type": "code",
   "execution_count": 95,
   "metadata": {},
   "outputs": [
    {
     "data": {
      "image/png": "[encoded data removed]",
      "text/plain": [
       "<Figure size 432x288 with 1 Axes>"
      ]
     },
     "metadata": {
      "needs_background": "light"
     },
     "output_type": "display_data"
    }
   ],
   "source": [
    "spanish_tweets_2011.plot.bar()\n",
    "plt.title(\"Number of spanish tweets per month in 2011\")\n",
    "plt.xlabel(\"Month\")\n",
    "plt.ylabel(\"Number of tweets\")\n",
    "plt.savefig(\"spanish2011.png\")"
   ]
  },
  {
   "cell_type": "code",
   "execution_count": 98,
   "metadata": {},
   "outputs": [
    {
     "data": {
      "image/png": "[encoded data removed]",
      "text/plain": [
       "<Figure size 432x288 with 1 Axes>"
      ]
     },
     "metadata": {
      "needs_background": "light"
     },
     "output_type": "display_data"
    }
   ],
   "source": [
    "spanish_tweets_2012.plot.bar()\n",
    "plt.title(\"Number of spanish tweets per month in 2012\")\n",
    "plt.xlabel(\"Month\")\n",
    "plt.ylabel(\"Number of tweets\")\n",
    "plt.savefig(\"spanish2012.png\")"
   ]
  },
  {
   "cell_type": "code",
   "execution_count": 97,
   "metadata": {},
   "outputs": [
    {
     "data": {
      "image/png": "[encoded data removed]",
      "text/plain": [
       "<Figure size 432x288 with 1 Axes>"
      ]
     },
     "metadata": {
      "needs_background": "light"
     },
     "output_type": "display_data"
    }
   ],
   "source": [
    "spanish_tweets_2013.plot.bar()\n",
    "plt.title(\"Number of spanish tweets per month in 2013\")\n",
    "plt.xlabel(\"Month\")\n",
    "plt.ylabel(\"Number of tweets\")\n",
    "plt.savefig(\"spanish2013.png\")"
   ]
  },
  {
   "cell_type": "markdown",
   "metadata": {},
   "source": [
    "We see a huge increase in June that is not present in other years. This seems to confirm our hypothesis that users tend to react to what happens in their life."
   ]
  },
  {
   "cell_type": "markdown",
   "metadata": {},
   "source": [
    "## 4.Load the data gathered with Twitter API"
   ]
  },
  {
   "cell_type": "code",
   "execution_count": 118,
   "metadata": {},
   "outputs": [],
   "source": [
    "# Let's name the set of new data ego_new_info\n",
    "EGO_NEW_INFO = DIR + \"recent_user_information.csv\"\n",
    "EGO_DEL = DIR + \"deleted_account.csv\"\n",
    "\n",
    "ego_new_info = pd.read_csv(EGO_NEW_INFO, header = 0)\n",
    "ego_del = pd.read_csv(EGO_DEL, header = 0)"
   ]
  },
  {
   "cell_type": "code",
   "execution_count": 164,
   "metadata": {},
   "outputs": [
    {
     "data": {
      "text/html": [
       "<div>\n",
       "<style scoped>\n",
       "    .dataframe tbody tr th:only-of-type {\n",
       "        vertical-align: middle;\n",
       "    }\n",
       "\n",
       "    .dataframe tbody tr th {\n",
       "        vertical-align: top;\n",
       "    }\n",
       "\n",
       "    .dataframe thead th {\n",
       "        text-align: right;\n",
       "    }\n",
       "</style>\n",
       "<table border=\"1\" class=\"dataframe\">\n",
       "  <thead>\n",
       "    <tr style=\"text-align: right;\">\n",
       "      <th></th>\n",
       "      <th>id</th>\n",
       "      <th>location</th>\n",
       "      <th>followers_count</th>\n",
       "      <th>favourites_count</th>\n",
       "      <th>friends_count</th>\n",
       "      <th>statuses_count</th>\n",
       "      <th>last_status_id</th>\n",
       "      <th>last_status_date</th>\n",
       "      <th>last_status_retweet_count</th>\n",
       "      <th>last_status_favorite_count</th>\n",
       "    </tr>\n",
       "  </thead>\n",
       "  <tbody>\n",
       "    <tr>\n",
       "      <th>0</th>\n",
       "      <td>194700833</td>\n",
       "      <td>NaN</td>\n",
       "      <td>12</td>\n",
       "      <td>0</td>\n",
       "      <td>9</td>\n",
       "      <td>7</td>\n",
       "      <td>499253984801337344</td>\n",
       "      <td>2014-08-12 18:00:00</td>\n",
       "      <td>0</td>\n",
       "      <td>0</td>\n",
       "    </tr>\n",
       "    <tr>\n",
       "      <th>1</th>\n",
       "      <td>114163235</td>\n",
       "      <td>Sofia, Bulgaria</td>\n",
       "      <td>29</td>\n",
       "      <td>0</td>\n",
       "      <td>17</td>\n",
       "      <td>6</td>\n",
       "      <td>113700849385095168</td>\n",
       "      <td>2011-09-13 19:49:29</td>\n",
       "      <td>0</td>\n",
       "      <td>2</td>\n",
       "    </tr>\n",
       "  </tbody>\n",
       "</table>\n",
       "</div>"
      ],
      "text/plain": [
       "          id         location  followers_count  favourites_count  \\\n",
       "0  194700833              NaN               12                 0   \n",
       "1  114163235  Sofia, Bulgaria               29                 0   \n",
       "\n",
       "   friends_count  statuses_count      last_status_id     last_status_date  \\\n",
       "0              9               7  499253984801337344  2014-08-12 18:00:00   \n",
       "1             17               6  113700849385095168  2011-09-13 19:49:29   \n",
       "\n",
       "   last_status_retweet_count  last_status_favorite_count  \n",
       "0                          0                           0  \n",
       "1                          0                           2  "
      ]
     },
     "execution_count": 164,
     "metadata": {},
     "output_type": "execute_result"
    }
   ],
   "source": [
    "ego_new_info.head(2)"
   ]
  },
  {
   "cell_type": "code",
   "execution_count": 170,
   "metadata": {},
   "outputs": [
    {
     "name": "stdout",
     "output_type": "stream",
     "text": [
      "2276 users have deleted their account\n"
     ]
    }
   ],
   "source": [
    "print(f\"{len(ego_del)} users have deleted their account\")"
   ]
  },
  {
   "cell_type": "markdown",
   "metadata": {},
   "source": [
    "## 5.Train the models\n",
    "\n",
    "The output we want to predict is always `statuses_count_2020` and we will use all the other columns except for `id` as input. We will only predict on users that have already posted something."
   ]
  },
  {
   "cell_type": "markdown",
   "metadata": {},
   "source": [
    "From the new data gathered from the twitter API, we will only use the columns `id`, `statuses_count`, `followers_count` and `friends_count` as they match with our previous data."
   ]
  },
  {
   "cell_type": "code",
   "execution_count": 254,
   "metadata": {},
   "outputs": [],
   "source": [
    "ego_new_necessary_info = ego_new_info[['id', 'statuses_count', 'followers_count', 'friends_count']]\n",
    "merged_necessary_info = merged[['id', 'statuses_count', 'followers_count', 'friends_count']].drop_duplicates()"
   ]
  },
  {
   "cell_type": "code",
   "execution_count": 255,
   "metadata": {},
   "outputs": [],
   "source": [
    "active_users = merged_necessary_info.merge(ego_new_necessary_info, left_on = 'id', right_on = 'id', \\\n",
    "                                           suffixes = ('_2014', '_2020'))"
   ]
  },
  {
   "cell_type": "code",
   "execution_count": 256,
   "metadata": {},
   "outputs": [],
   "source": [
    "features = ['followers_count_2014', 'friends_count_2014', 'statuses_count_2014', 'followers_count_2020', 'friends_count_2020']\n",
    "output = 'statuses_count_2020'"
   ]
  },
  {
   "cell_type": "code",
   "execution_count": 257,
   "metadata": {},
   "outputs": [
    {
     "data": {
      "text/plain": [
       "14967"
      ]
     },
     "execution_count": 257,
     "metadata": {},
     "output_type": "execute_result"
    }
   ],
   "source": [
    "len(active_users)"
   ]
  },
  {
   "cell_type": "code",
   "execution_count": 258,
   "metadata": {},
   "outputs": [
    {
     "data": {
      "text/html": [
       "<div>\n",
       "<style scoped>\n",
       "    .dataframe tbody tr th:only-of-type {\n",
       "        vertical-align: middle;\n",
       "    }\n",
       "\n",
       "    .dataframe tbody tr th {\n",
       "        vertical-align: top;\n",
       "    }\n",
       "\n",
       "    .dataframe thead th {\n",
       "        text-align: right;\n",
       "    }\n",
       "</style>\n",
       "<table border=\"1\" class=\"dataframe\">\n",
       "  <thead>\n",
       "    <tr style=\"text-align: right;\">\n",
       "      <th></th>\n",
       "      <th>id</th>\n",
       "      <th>statuses_count_2014</th>\n",
       "      <th>followers_count_2014</th>\n",
       "      <th>friends_count_2014</th>\n",
       "      <th>statuses_count_2020</th>\n",
       "      <th>followers_count_2020</th>\n",
       "      <th>friends_count_2020</th>\n",
       "    </tr>\n",
       "  </thead>\n",
       "  <tbody>\n",
       "    <tr>\n",
       "      <th>0</th>\n",
       "      <td>194700833</td>\n",
       "      <td>7.0</td>\n",
       "      <td>13.0</td>\n",
       "      <td>9</td>\n",
       "      <td>7</td>\n",
       "      <td>12</td>\n",
       "      <td>9</td>\n",
       "    </tr>\n",
       "    <tr>\n",
       "      <th>1</th>\n",
       "      <td>114163235</td>\n",
       "      <td>6.0</td>\n",
       "      <td>26.0</td>\n",
       "      <td>16</td>\n",
       "      <td>6</td>\n",
       "      <td>29</td>\n",
       "      <td>17</td>\n",
       "    </tr>\n",
       "    <tr>\n",
       "      <th>2</th>\n",
       "      <td>363054646</td>\n",
       "      <td>180.0</td>\n",
       "      <td>6.0</td>\n",
       "      <td>10</td>\n",
       "      <td>268</td>\n",
       "      <td>6</td>\n",
       "      <td>17</td>\n",
       "    </tr>\n",
       "    <tr>\n",
       "      <th>3</th>\n",
       "      <td>294643774</td>\n",
       "      <td>49.0</td>\n",
       "      <td>12.0</td>\n",
       "      <td>45</td>\n",
       "      <td>52</td>\n",
       "      <td>20</td>\n",
       "      <td>53</td>\n",
       "    </tr>\n",
       "    <tr>\n",
       "      <th>4</th>\n",
       "      <td>228786247</td>\n",
       "      <td>18.0</td>\n",
       "      <td>13.0</td>\n",
       "      <td>39</td>\n",
       "      <td>8</td>\n",
       "      <td>16</td>\n",
       "      <td>33</td>\n",
       "    </tr>\n",
       "  </tbody>\n",
       "</table>\n",
       "</div>"
      ],
      "text/plain": [
       "          id  statuses_count_2014  followers_count_2014  friends_count_2014  \\\n",
       "0  194700833                  7.0                  13.0                   9   \n",
       "1  114163235                  6.0                  26.0                  16   \n",
       "2  363054646                180.0                   6.0                  10   \n",
       "3  294643774                 49.0                  12.0                  45   \n",
       "4  228786247                 18.0                  13.0                  39   \n",
       "\n",
       "   statuses_count_2020  followers_count_2020  friends_count_2020  \n",
       "0                    7                    12                   9  \n",
       "1                    6                    29                  17  \n",
       "2                  268                     6                  17  \n",
       "3                   52                    20                  53  \n",
       "4                    8                    16                  33  "
      ]
     },
     "execution_count": 258,
     "metadata": {},
     "output_type": "execute_result"
    }
   ],
   "source": [
    "active_users.head()"
   ]
  },
  {
   "cell_type": "markdown",
   "metadata": {},
   "source": [
    "To split the data, we will use `train_test_split` from `sklearn` as we did in HW2."
   ]
  },
  {
   "cell_type": "code",
   "execution_count": 259,
   "metadata": {},
   "outputs": [],
   "source": [
    "test_size = 0.7\n",
    "\n",
    "trainset, testset = train_test_split(active_users[features + [output]], test_size = test_size, shuffle = True)"
   ]
  },
  {
   "cell_type": "markdown",
   "metadata": {},
   "source": [
    "We will try two different models, `GradientBoostingRegressor` and `Ridge`. This follows the same pattern as in HW2, so we won't go into too much details about our steps."
   ]
  },
  {
   "cell_type": "code",
   "execution_count": 260,
   "metadata": {},
   "outputs": [],
   "source": [
    "train_x = trainset[features]\n",
    "train_y = trainset[output]\n",
    "test_x = testset[features]\n",
    "test_y = testset[output]"
   ]
  },
  {
   "cell_type": "code",
   "execution_count": 261,
   "metadata": {},
   "outputs": [
    {
     "data": {
      "text/plain": [
       "GradientBoostingRegressor(alpha=0.9, criterion='friedman_mse', init=None,\n",
       "                          learning_rate=0.1, loss='ls', max_depth=3,\n",
       "                          max_features=None, max_leaf_nodes=None,\n",
       "                          min_impurity_decrease=0.0, min_impurity_split=None,\n",
       "                          min_samples_leaf=1, min_samples_split=2,\n",
       "                          min_weight_fraction_leaf=0.0, n_estimators=100,\n",
       "                          n_iter_no_change=None, presort='auto',\n",
       "                          random_state=None, subsample=1.0, tol=0.0001,\n",
       "                          validation_fraction=0.1, verbose=0, warm_start=False)"
      ]
     },
     "execution_count": 261,
     "metadata": {},
     "output_type": "execute_result"
    }
   ],
   "source": [
    "gbr = GradientBoostingRegressor()\n",
    "\n",
    "gbr.fit(train_x, train_y)"
   ]
  },
  {
   "cell_type": "code",
   "execution_count": 262,
   "metadata": {},
   "outputs": [],
   "source": [
    "pred_gbr = gbr.predict(test_x)\n",
    "r2_gbr = r2_score(test_y, pred_gbr)"
   ]
  },
  {
   "cell_type": "code",
   "execution_count": 263,
   "metadata": {},
   "outputs": [
    {
     "data": {
      "text/plain": [
       "Ridge(alpha=1.0, copy_X=True, fit_intercept=True, max_iter=None,\n",
       "      normalize=False, random_state=None, solver='auto', tol=0.001)"
      ]
     },
     "execution_count": 263,
     "metadata": {},
     "output_type": "execute_result"
    }
   ],
   "source": [
    "rr = Ridge()\n",
    "\n",
    "rr.fit(train_x, train_y)"
   ]
  },
  {
   "cell_type": "code",
   "execution_count": 264,
   "metadata": {},
   "outputs": [],
   "source": [
    "pred_rr = rr.predict(test_x)\n",
    "r2_rr = r2_score(test_y, pred_rr)"
   ]
  },
  {
   "cell_type": "code",
   "execution_count": 265,
   "metadata": {},
   "outputs": [
    {
     "name": "stdout",
     "output_type": "stream",
     "text": [
      "R² is 0.38235224292038006 for GBR and -1.0793810266081847 for RR\n"
     ]
    }
   ],
   "source": [
    "print(\"R\\u00b2 is {} for GBR and {} for RR\".format(r2_gbr, r2_rr))"
   ]
  },
  {
   "cell_type": "markdown",
   "metadata": {},
   "source": [
    "Ridge regression seems to be a better fit for our task. We will still do some cross validation on GBR in order to test different approach."
   ]
  },
  {
   "cell_type": "markdown",
   "metadata": {},
   "source": [
    "## Cross-validation\n",
    "\n",
    "Let's do some cross-validation on `learning_rate` and `n_estimators` for `GradientBoostingRegressor`, and on `alpha` for `Ridge`.\n",
    "\n",
    "We will take the same values for `GradientBoostingRegressor` as we did in HW2, and for `Ridge`, we will try some alpha following a log space."
   ]
  },
  {
   "cell_type": "code",
   "execution_count": 266,
   "metadata": {},
   "outputs": [],
   "source": [
    "n_estimators = [50, 75, 100, 150, 200, 250]\n",
    "learning_rates = [0.1, 0.05, 0.01]\n",
    "alpha = np.logspace(-7, 10, 18)"
   ]
  },
  {
   "cell_type": "code",
   "execution_count": 267,
   "metadata": {},
   "outputs": [],
   "source": [
    "values_gbr = pd.DataFrame({'n_estimators': [], 'learning_rate': [], 'R^2': []})\n",
    "for n in n_estimators :\n",
    "    for lr in learning_rates :\n",
    "        new_entry = {'n_estimators': n, 'learning_rate': lr, 'R^2':0}\n",
    "        temp_gbr = GradientBoostingRegressor(n_estimators = n, learning_rate = lr)\n",
    "        pred = cross_val_predict(temp_gbr, train_x, train_y, cv = 20)\n",
    "        new_entry['R^2'] = r2_score(train_y, pred)\n",
    "        values_gbr = values_gbr.append(new_entry, ignore_index = True)"
   ]
  },
  {
   "cell_type": "code",
   "execution_count": 268,
   "metadata": {},
   "outputs": [
    {
     "data": {
      "text/html": [
       "<div>\n",
       "<style scoped>\n",
       "    .dataframe tbody tr th:only-of-type {\n",
       "        vertical-align: middle;\n",
       "    }\n",
       "\n",
       "    .dataframe tbody tr th {\n",
       "        vertical-align: top;\n",
       "    }\n",
       "\n",
       "    .dataframe thead th {\n",
       "        text-align: right;\n",
       "    }\n",
       "</style>\n",
       "<table border=\"1\" class=\"dataframe\">\n",
       "  <thead>\n",
       "    <tr style=\"text-align: right;\">\n",
       "      <th></th>\n",
       "      <th>n_estimators</th>\n",
       "      <th>learning_rate</th>\n",
       "      <th>R^2</th>\n",
       "    </tr>\n",
       "  </thead>\n",
       "  <tbody>\n",
       "    <tr>\n",
       "      <th>0</th>\n",
       "      <td>50.0</td>\n",
       "      <td>0.10</td>\n",
       "      <td>0.077588</td>\n",
       "    </tr>\n",
       "    <tr>\n",
       "      <th>1</th>\n",
       "      <td>50.0</td>\n",
       "      <td>0.05</td>\n",
       "      <td>0.071047</td>\n",
       "    </tr>\n",
       "    <tr>\n",
       "      <th>2</th>\n",
       "      <td>50.0</td>\n",
       "      <td>0.01</td>\n",
       "      <td>0.025229</td>\n",
       "    </tr>\n",
       "    <tr>\n",
       "      <th>3</th>\n",
       "      <td>75.0</td>\n",
       "      <td>0.10</td>\n",
       "      <td>0.081355</td>\n",
       "    </tr>\n",
       "    <tr>\n",
       "      <th>4</th>\n",
       "      <td>75.0</td>\n",
       "      <td>0.05</td>\n",
       "      <td>0.079869</td>\n",
       "    </tr>\n",
       "    <tr>\n",
       "      <th>5</th>\n",
       "      <td>75.0</td>\n",
       "      <td>0.01</td>\n",
       "      <td>0.035650</td>\n",
       "    </tr>\n",
       "    <tr>\n",
       "      <th>6</th>\n",
       "      <td>100.0</td>\n",
       "      <td>0.10</td>\n",
       "      <td>0.080272</td>\n",
       "    </tr>\n",
       "    <tr>\n",
       "      <th>7</th>\n",
       "      <td>100.0</td>\n",
       "      <td>0.05</td>\n",
       "      <td>0.082253</td>\n",
       "    </tr>\n",
       "    <tr>\n",
       "      <th>8</th>\n",
       "      <td>100.0</td>\n",
       "      <td>0.01</td>\n",
       "      <td>0.044240</td>\n",
       "    </tr>\n",
       "    <tr>\n",
       "      <th>9</th>\n",
       "      <td>150.0</td>\n",
       "      <td>0.10</td>\n",
       "      <td>0.081262</td>\n",
       "    </tr>\n",
       "    <tr>\n",
       "      <th>10</th>\n",
       "      <td>150.0</td>\n",
       "      <td>0.05</td>\n",
       "      <td>0.083848</td>\n",
       "    </tr>\n",
       "    <tr>\n",
       "      <th>11</th>\n",
       "      <td>150.0</td>\n",
       "      <td>0.01</td>\n",
       "      <td>0.054268</td>\n",
       "    </tr>\n",
       "    <tr>\n",
       "      <th>12</th>\n",
       "      <td>200.0</td>\n",
       "      <td>0.10</td>\n",
       "      <td>0.080317</td>\n",
       "    </tr>\n",
       "    <tr>\n",
       "      <th>13</th>\n",
       "      <td>200.0</td>\n",
       "      <td>0.05</td>\n",
       "      <td>0.085828</td>\n",
       "    </tr>\n",
       "    <tr>\n",
       "      <th>14</th>\n",
       "      <td>200.0</td>\n",
       "      <td>0.01</td>\n",
       "      <td>0.065039</td>\n",
       "    </tr>\n",
       "    <tr>\n",
       "      <th>15</th>\n",
       "      <td>250.0</td>\n",
       "      <td>0.10</td>\n",
       "      <td>0.079358</td>\n",
       "    </tr>\n",
       "    <tr>\n",
       "      <th>16</th>\n",
       "      <td>250.0</td>\n",
       "      <td>0.05</td>\n",
       "      <td>0.086305</td>\n",
       "    </tr>\n",
       "    <tr>\n",
       "      <th>17</th>\n",
       "      <td>250.0</td>\n",
       "      <td>0.01</td>\n",
       "      <td>0.071676</td>\n",
       "    </tr>\n",
       "  </tbody>\n",
       "</table>\n",
       "</div>"
      ],
      "text/plain": [
       "    n_estimators  learning_rate       R^2\n",
       "0           50.0           0.10  0.077588\n",
       "1           50.0           0.05  0.071047\n",
       "2           50.0           0.01  0.025229\n",
       "3           75.0           0.10  0.081355\n",
       "4           75.0           0.05  0.079869\n",
       "5           75.0           0.01  0.035650\n",
       "6          100.0           0.10  0.080272\n",
       "7          100.0           0.05  0.082253\n",
       "8          100.0           0.01  0.044240\n",
       "9          150.0           0.10  0.081262\n",
       "10         150.0           0.05  0.083848\n",
       "11         150.0           0.01  0.054268\n",
       "12         200.0           0.10  0.080317\n",
       "13         200.0           0.05  0.085828\n",
       "14         200.0           0.01  0.065039\n",
       "15         250.0           0.10  0.079358\n",
       "16         250.0           0.05  0.086305\n",
       "17         250.0           0.01  0.071676"
      ]
     },
     "execution_count": 268,
     "metadata": {},
     "output_type": "execute_result"
    }
   ],
   "source": [
    "values_gbr"
   ]
  },
  {
   "cell_type": "code",
   "execution_count": 269,
   "metadata": {},
   "outputs": [],
   "source": [
    "values_rr = pd.DataFrame({'alpha': [], 'R^2': []})\n",
    "for a in alpha :\n",
    "    new_entry = {'alpha': a, 'R^2': 0}\n",
    "    temp_rr = Ridge(alpha = a)\n",
    "    pred = cross_val_predict(temp_rr, train_x, train_y, cv = 20)\n",
    "    new_entry['R^2'] = r2_score(train_y, pred)\n",
    "    values_rr = values_rr.append(new_entry, ignore_index = True)"
   ]
  },
  {
   "cell_type": "code",
   "execution_count": 270,
   "metadata": {},
   "outputs": [
    {
     "data": {
      "text/html": [
       "<div>\n",
       "<style scoped>\n",
       "    .dataframe tbody tr th:only-of-type {\n",
       "        vertical-align: middle;\n",
       "    }\n",
       "\n",
       "    .dataframe tbody tr th {\n",
       "        vertical-align: top;\n",
       "    }\n",
       "\n",
       "    .dataframe thead th {\n",
       "        text-align: right;\n",
       "    }\n",
       "</style>\n",
       "<table border=\"1\" class=\"dataframe\">\n",
       "  <thead>\n",
       "    <tr style=\"text-align: right;\">\n",
       "      <th></th>\n",
       "      <th>alpha</th>\n",
       "      <th>R^2</th>\n",
       "    </tr>\n",
       "  </thead>\n",
       "  <tbody>\n",
       "    <tr>\n",
       "      <th>0</th>\n",
       "      <td>1.000000e-07</td>\n",
       "      <td>0.640593</td>\n",
       "    </tr>\n",
       "    <tr>\n",
       "      <th>1</th>\n",
       "      <td>1.000000e-06</td>\n",
       "      <td>0.640593</td>\n",
       "    </tr>\n",
       "    <tr>\n",
       "      <th>2</th>\n",
       "      <td>1.000000e-05</td>\n",
       "      <td>0.640593</td>\n",
       "    </tr>\n",
       "    <tr>\n",
       "      <th>3</th>\n",
       "      <td>1.000000e-04</td>\n",
       "      <td>0.640593</td>\n",
       "    </tr>\n",
       "    <tr>\n",
       "      <th>4</th>\n",
       "      <td>1.000000e-03</td>\n",
       "      <td>0.640593</td>\n",
       "    </tr>\n",
       "    <tr>\n",
       "      <th>5</th>\n",
       "      <td>1.000000e-02</td>\n",
       "      <td>0.640593</td>\n",
       "    </tr>\n",
       "    <tr>\n",
       "      <th>6</th>\n",
       "      <td>1.000000e-01</td>\n",
       "      <td>0.640593</td>\n",
       "    </tr>\n",
       "    <tr>\n",
       "      <th>7</th>\n",
       "      <td>1.000000e+00</td>\n",
       "      <td>0.640593</td>\n",
       "    </tr>\n",
       "    <tr>\n",
       "      <th>8</th>\n",
       "      <td>1.000000e+01</td>\n",
       "      <td>0.640593</td>\n",
       "    </tr>\n",
       "    <tr>\n",
       "      <th>9</th>\n",
       "      <td>1.000000e+02</td>\n",
       "      <td>0.640593</td>\n",
       "    </tr>\n",
       "    <tr>\n",
       "      <th>10</th>\n",
       "      <td>1.000000e+03</td>\n",
       "      <td>0.640593</td>\n",
       "    </tr>\n",
       "    <tr>\n",
       "      <th>11</th>\n",
       "      <td>1.000000e+04</td>\n",
       "      <td>0.640593</td>\n",
       "    </tr>\n",
       "    <tr>\n",
       "      <th>12</th>\n",
       "      <td>1.000000e+05</td>\n",
       "      <td>0.640598</td>\n",
       "    </tr>\n",
       "    <tr>\n",
       "      <th>13</th>\n",
       "      <td>1.000000e+06</td>\n",
       "      <td>0.640643</td>\n",
       "    </tr>\n",
       "    <tr>\n",
       "      <th>14</th>\n",
       "      <td>1.000000e+07</td>\n",
       "      <td>0.641057</td>\n",
       "    </tr>\n",
       "    <tr>\n",
       "      <th>15</th>\n",
       "      <td>1.000000e+08</td>\n",
       "      <td>0.643299</td>\n",
       "    </tr>\n",
       "    <tr>\n",
       "      <th>16</th>\n",
       "      <td>1.000000e+09</td>\n",
       "      <td>0.642409</td>\n",
       "    </tr>\n",
       "    <tr>\n",
       "      <th>17</th>\n",
       "      <td>1.000000e+10</td>\n",
       "      <td>0.592848</td>\n",
       "    </tr>\n",
       "  </tbody>\n",
       "</table>\n",
       "</div>"
      ],
      "text/plain": [
       "           alpha       R^2\n",
       "0   1.000000e-07  0.640593\n",
       "1   1.000000e-06  0.640593\n",
       "2   1.000000e-05  0.640593\n",
       "3   1.000000e-04  0.640593\n",
       "4   1.000000e-03  0.640593\n",
       "5   1.000000e-02  0.640593\n",
       "6   1.000000e-01  0.640593\n",
       "7   1.000000e+00  0.640593\n",
       "8   1.000000e+01  0.640593\n",
       "9   1.000000e+02  0.640593\n",
       "10  1.000000e+03  0.640593\n",
       "11  1.000000e+04  0.640593\n",
       "12  1.000000e+05  0.640598\n",
       "13  1.000000e+06  0.640643\n",
       "14  1.000000e+07  0.641057\n",
       "15  1.000000e+08  0.643299\n",
       "16  1.000000e+09  0.642409\n",
       "17  1.000000e+10  0.592848"
      ]
     },
     "execution_count": 270,
     "metadata": {},
     "output_type": "execute_result"
    }
   ],
   "source": [
    "values_rr"
   ]
  },
  {
   "cell_type": "markdown",
   "metadata": {},
   "source": [
    "## Plot the cross-validation\n",
    "\n",
    "We will plot the two cross-validations done above to find which hyperparameters are the best."
   ]
  },
  {
   "cell_type": "code",
   "execution_count": 271,
   "metadata": {},
   "outputs": [
    {
     "data": {
      "image/png": "[encoded data removed]",
      "text/plain": [
       "<Figure size 432x288 with 1 Axes>"
      ]
     },
     "metadata": {
      "needs_background": "light"
     },
     "output_type": "display_data"
    }
   ],
   "source": [
    "values_rr.set_index('alpha').plot()\n",
    "plt.title(\"Cross-validation for Ridge\")\n",
    "plt.xlabel(\"Alpha\")\n",
    "plt.ylabel(\"R\\u00b2 values\")\n",
    "plt.xscale('log')\n",
    "plt.savefig('CrossValRidge.png')"
   ]
  },
  {
   "cell_type": "code",
   "execution_count": 272,
   "metadata": {},
   "outputs": [
    {
     "data": {
      "image/png": "[encoded data removed]",
      "text/plain": [
       "<Figure size 432x288 with 1 Axes>"
      ]
     },
     "metadata": {
      "needs_background": "light"
     },
     "output_type": "display_data"
    }
   ],
   "source": [
    "for lr in learning_rates :\n",
    "    values_gbr[values_gbr['learning_rate'] == lr].set_index('n_estimators')['R^2'].plot(label = str(lr))\n",
    "plt.xlabel('n_estimators')\n",
    "plt.ylabel('R\\u00b2 values')\n",
    "plt.title(\"Cross-validation for Gradient Boosting\")\n",
    "plt.legend(title = 'Learning rates')\n",
    "plt.savefig('CrossValGBR.png')"
   ]
  },
  {
   "cell_type": "markdown",
   "metadata": {},
   "source": [
    "We can see that the best hyperparameters are $10^{10}$ for Ridge and $0.05$ and $250$ for Gradient Boosting."
   ]
  },
  {
   "cell_type": "markdown",
   "metadata": {},
   "source": [
    "## Plot the best model's prediction\n",
    "\n",
    "We will train the model with the hyperparameters found above, then predict the output for the test set and finally plot those results to see how they compare to the actual values of the output of the test set."
   ]
  },
  {
   "cell_type": "code",
   "execution_count": 273,
   "metadata": {},
   "outputs": [],
   "source": [
    "best_gbr = GradientBoostingRegressor(n_estimators = 250, learning_rate = 0.05)\n",
    "best_gbr.fit(train_x, train_y)\n",
    "best_pred_gbr = best_gbr.predict(test_x)"
   ]
  },
  {
   "cell_type": "code",
   "execution_count": 282,
   "metadata": {},
   "outputs": [],
   "source": [
    "best_rr = Ridge(alpha = 10 ** 10)\n",
    "best_rr.fit(train_x, train_y)\n",
    "best_pred_rr = best_rr.predict(test_x)"
   ]
  },
  {
   "cell_type": "code",
   "execution_count": 283,
   "metadata": {},
   "outputs": [],
   "source": [
    "testset['rr_pred'] = best_pred_rr\n",
    "testset['gbr_pred'] = best_pred_gbr"
   ]
  },
  {
   "cell_type": "markdown",
   "metadata": {},
   "source": [
    "Let's try to see if there exists a link between the $R^2$ score of our predictions and the number of followers each ego has in 2020."
   ]
  },
  {
   "cell_type": "code",
   "execution_count": 284,
   "metadata": {},
   "outputs": [
    {
     "data": {
      "text/html": [
       "<div>\n",
       "<style scoped>\n",
       "    .dataframe tbody tr th:only-of-type {\n",
       "        vertical-align: middle;\n",
       "    }\n",
       "\n",
       "    .dataframe tbody tr th {\n",
       "        vertical-align: top;\n",
       "    }\n",
       "\n",
       "    .dataframe thead th {\n",
       "        text-align: right;\n",
       "    }\n",
       "</style>\n",
       "<table border=\"1\" class=\"dataframe\">\n",
       "  <thead>\n",
       "    <tr style=\"text-align: right;\">\n",
       "      <th></th>\n",
       "      <th>followers</th>\n",
       "      <th>r2gbr</th>\n",
       "      <th>r2rr</th>\n",
       "    </tr>\n",
       "  </thead>\n",
       "  <tbody>\n",
       "    <tr>\n",
       "      <th>0</th>\n",
       "      <td>1.0</td>\n",
       "      <td>0.453854</td>\n",
       "      <td>-1.171982</td>\n",
       "    </tr>\n",
       "    <tr>\n",
       "      <th>1</th>\n",
       "      <td>10.0</td>\n",
       "      <td>0.435608</td>\n",
       "      <td>-1.237036</td>\n",
       "    </tr>\n",
       "    <tr>\n",
       "      <th>2</th>\n",
       "      <td>100.0</td>\n",
       "      <td>0.398841</td>\n",
       "      <td>-1.569107</td>\n",
       "    </tr>\n",
       "    <tr>\n",
       "      <th>3</th>\n",
       "      <td>1000.0</td>\n",
       "      <td>0.448737</td>\n",
       "      <td>-2.768761</td>\n",
       "    </tr>\n",
       "    <tr>\n",
       "      <th>4</th>\n",
       "      <td>10000.0</td>\n",
       "      <td>-0.158905</td>\n",
       "      <td>-51.730184</td>\n",
       "    </tr>\n",
       "  </tbody>\n",
       "</table>\n",
       "</div>"
      ],
      "text/plain": [
       "   followers     r2gbr       r2rr\n",
       "0        1.0  0.453854  -1.171982\n",
       "1       10.0  0.435608  -1.237036\n",
       "2      100.0  0.398841  -1.569107\n",
       "3     1000.0  0.448737  -2.768761\n",
       "4    10000.0 -0.158905 -51.730184"
      ]
     },
     "execution_count": 284,
     "metadata": {},
     "output_type": "execute_result"
    }
   ],
   "source": [
    "nb_followers = np.logspace(0, 6, 7)\n",
    "r2set = pd.DataFrame({'followers' : [], 'r2gbr' : [], 'r2rr' : []})\n",
    "for f in nb_followers :\n",
    "    temp_df = testset[testset['followers_count_2020'] >= f]\n",
    "    if not temp_df.empty :\n",
    "        r2gbr = r2_score(temp_df[output], temp_df['gbr_pred'])\n",
    "        r2rr = r2_score(temp_df[output], temp_df['rr_pred'])\n",
    "        new_entry = {'followers' : f, 'r2gbr' : r2gbr, 'r2rr' : r2rr}\n",
    "        r2set = r2set.append(new_entry, ignore_index = True)\n",
    "r2set"
   ]
  },
  {
   "cell_type": "code",
   "execution_count": 285,
   "metadata": {},
   "outputs": [
    {
     "data": {
      "image/png": "[encoded data removed]",
      "text/plain": [
       "<Figure size 432x288 with 1 Axes>"
      ]
     },
     "metadata": {
      "needs_background": "light"
     },
     "output_type": "display_data"
    }
   ],
   "source": [
    "all_pred = testset[['statuses_count_2020', 'rr_pred', 'gbr_pred']].sort_values(by = 'statuses_count_2020')\n",
    "all_pred.set_index(np.arange(0, all_pred.shape[0]), inplace = True)\n",
    "all_pred[['rr_pred', 'statuses_count_2020']].plot()\n",
    "plt.yscale('log')\n",
    "plt.xlabel('Index of the tweet')\n",
    "plt.ylabel('Number of tweets')\n",
    "plt.title('Ridge prediction VS actual data')\n",
    "plt.savefig('rrpred.png')"
   ]
  },
  {
   "cell_type": "code",
   "execution_count": 279,
   "metadata": {},
   "outputs": [
    {
     "data": {
      "image/png": "[encoded data removed]",
      "text/plain": [
       "<Figure size 432x288 with 1 Axes>"
      ]
     },
     "metadata": {
      "needs_background": "light"
     },
     "output_type": "display_data"
    }
   ],
   "source": [
    "all_pred[['gbr_pred', 'statuses_count_2020']].plot()\n",
    "plt.yscale('log')\n",
    "plt.xlabel('Index of the tweet')\n",
    "plt.ylabel('Number of tweets')\n",
    "plt.title('Gradient Boosting VS actual data')\n",
    "plt.savefig('gbrpred.png')"
   ]
  },
  {
   "cell_type": "markdown",
   "metadata": {},
   "source": [
    "In both cases, results are really bad, it seems it is not easy to predict user's activity based only on data that came form 6 years ago."
   ]
  },
  {
   "cell_type": "code",
   "execution_count": null,
   "metadata": {},
   "outputs": [],
   "source": []
  }
 ],
 "metadata": {
  "kernelspec": {
   "display_name": "Python 3",
   "language": "python",
   "name": "python3"
  },
  "language_info": {
   "codemirror_mode": {
    "name": "ipython",
    "version": 3
   },
   "file_extension": ".py",
   "mimetype": "text/x-python",
   "name": "python",
   "nbconvert_exporter": "python",
   "pygments_lexer": "ipython3",
   "version": "3.7.6"
  }
 },
 "nbformat": 4,
 "nbformat_minor": 4
}
