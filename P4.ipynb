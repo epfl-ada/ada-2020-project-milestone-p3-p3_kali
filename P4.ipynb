{
 "cells": [
  {
   "cell_type": "markdown",
   "metadata": {},
   "source": [
    "## Load the data"
   ]
  },
  {
   "cell_type": "code",
   "execution_count": 1,
   "metadata": {},
   "outputs": [],
   "source": [
    "import pandas as pd\n",
    "import numpy as np\n",
    "import matplotlib.pyplot as plt\n",
    "import seaborn as sn\n",
    "import tweepy\n",
    "import datetime\n",
    "import calendar\n",
    "from sklearn.model_selection import train_test_split, cross_val_predict\n",
    "from sklearn.metrics import r2_score\n",
    "from sklearn.ensemble import GradientBoostingRegressor\n",
    "from sklearn.linear_model import Ridge\n",
    "\n",
    "DIR = \"./data/\"\n",
    "EGO_TIMELINES = DIR + \"EgoTimelines.txt\"\n",
    "EGO_ALTER_PROFILES = DIR + \"EgoAlterProfiles.txt\"\n",
    "\n",
    "ego_timelines = pd.read_csv( EGO_TIMELINES, sep='\\t',encoding = \"ISO-8859-1\")\n",
    "ego_alter = pd.read_csv( EGO_ALTER_PROFILES, sep='\\t',encoding = \"ISO-8859-1\")"
   ]
  },
  {
   "cell_type": "markdown",
   "metadata": {},
   "source": [
    "## Merge the ego's timelines and profiles\n",
    "\n",
    "This part is similar to the one some of us did in the replication part of P4. \n",
    "\n",
    "In the first part, we want to change the strings in `created_at` to datetimes."
   ]
  },
  {
   "cell_type": "code",
   "execution_count": 2,
   "metadata": {},
   "outputs": [],
   "source": [
    "ego_timelines['created_at'] = ego_timelines['created_at'].apply(lambda x: x.replace('+0000', ''))\n",
    "ego_timelines['created_at'] = ego_timelines['created_at'].apply(lambda x: datetime.datetime.strptime(x, \"%a %b %d %H:%M:%S %Y\"))"
   ]
  },
  {
   "cell_type": "code",
   "execution_count": 3,
   "metadata": {},
   "outputs": [],
   "source": [
    "ego_alter['created_at'] = ego_alter['created_at'].apply(lambda x: x.replace('+0000', ''))\n",
    "ego_alter['created_at'] = ego_alter['created_at'].apply(lambda x: datetime.datetime.strptime(x, \"%a %b %d %H:%M:%S %Y\"))"
   ]
  },
  {
   "cell_type": "markdown",
   "metadata": {},
   "source": [
    "We decided not to follow the step from the replication to use only egos which have a defined `utc_offset` as we reckon it does not affect our result too much, it would only affect tweets made on the first or last day of the month."
   ]
  },
  {
   "cell_type": "code",
   "execution_count": 4,
   "metadata": {},
   "outputs": [],
   "source": [
    "egos_only = ego_alter[ego_alter['IsEgo']]"
   ]
  },
  {
   "cell_type": "markdown",
   "metadata": {},
   "source": [
    "We merge the two datasets, based on the ID that was assigned to them by the authors of the paper."
   ]
  },
  {
   "cell_type": "code",
   "execution_count": 5,
   "metadata": {},
   "outputs": [],
   "source": [
    "merged = ego_timelines.merge(egos_only, left_on = 'egoID', right_on = 'ID', suffixes = ('_timelines', '_profiles'))"
   ]
  },
  {
   "cell_type": "markdown",
   "metadata": {},
   "source": [
    "We add three columns representing the month and the year at which the tweet was posted and the year at which the account was created."
   ]
  },
  {
   "cell_type": "code",
   "execution_count": 6,
   "metadata": {},
   "outputs": [],
   "source": [
    "merged['month_post'] = merged['created_at_timelines'].apply(lambda x: calendar.month_name[x.month])\n",
    "merged['year_post'] = merged['created_at_timelines'].apply(lambda x: x.year)\n",
    "merged['year_account'] = merged['created_at_profiles'].apply(lambda x: x.year)"
   ]
  },
  {
   "cell_type": "code",
   "execution_count": 7,
   "metadata": {},
   "outputs": [
    {
     "data": {
      "text/html": [
       "<div>\n",
       "<style scoped>\n",
       "    .dataframe tbody tr th:only-of-type {\n",
       "        vertical-align: middle;\n",
       "    }\n",
       "\n",
       "    .dataframe tbody tr th {\n",
       "        vertical-align: top;\n",
       "    }\n",
       "\n",
       "    .dataframe thead th {\n",
       "        text-align: right;\n",
       "    }\n",
       "</style>\n",
       "<table border=\"1\" class=\"dataframe\">\n",
       "  <thead>\n",
       "    <tr style=\"text-align: right;\">\n",
       "      <th></th>\n",
       "      <th>replyto_userid</th>\n",
       "      <th>retweeted_userid</th>\n",
       "      <th>id</th>\n",
       "      <th>tweetid</th>\n",
       "      <th>created_at_timelines</th>\n",
       "      <th>hashtags</th>\n",
       "      <th>urls</th>\n",
       "      <th>mentions_ids</th>\n",
       "      <th>retweet_count</th>\n",
       "      <th>egoID</th>\n",
       "      <th>...</th>\n",
       "      <th>followers_count</th>\n",
       "      <th>friends_count</th>\n",
       "      <th>statuses_count</th>\n",
       "      <th>utc_offset</th>\n",
       "      <th>lang</th>\n",
       "      <th>created_at_profiles</th>\n",
       "      <th>protected</th>\n",
       "      <th>month_post</th>\n",
       "      <th>year_post</th>\n",
       "      <th>year_account</th>\n",
       "    </tr>\n",
       "  </thead>\n",
       "  <tbody>\n",
       "    <tr>\n",
       "      <th>0</th>\n",
       "      <td>NaN</td>\n",
       "      <td>NaN</td>\n",
       "      <td>398477318</td>\n",
       "      <td>249552537051598848</td>\n",
       "      <td>2012-09-22 16:55:35</td>\n",
       "      <td>NaN</td>\n",
       "      <td>NaN</td>\n",
       "      <td>2810549959</td>\n",
       "      <td>0</td>\n",
       "      <td>1</td>\n",
       "      <td>...</td>\n",
       "      <td>30.0</td>\n",
       "      <td>28</td>\n",
       "      <td>9.0</td>\n",
       "      <td>NaN</td>\n",
       "      <td>en</td>\n",
       "      <td>2011-10-26 03:30:32</td>\n",
       "      <td>False</td>\n",
       "      <td>September</td>\n",
       "      <td>2012</td>\n",
       "      <td>2011</td>\n",
       "    </tr>\n",
       "    <tr>\n",
       "      <th>1</th>\n",
       "      <td>NaN</td>\n",
       "      <td>NaN</td>\n",
       "      <td>398477318</td>\n",
       "      <td>249537963145433088</td>\n",
       "      <td>2012-09-22 15:57:41</td>\n",
       "      <td>NaN</td>\n",
       "      <td>NaN</td>\n",
       "      <td>2810549959</td>\n",
       "      <td>0</td>\n",
       "      <td>1</td>\n",
       "      <td>...</td>\n",
       "      <td>30.0</td>\n",
       "      <td>28</td>\n",
       "      <td>9.0</td>\n",
       "      <td>NaN</td>\n",
       "      <td>en</td>\n",
       "      <td>2011-10-26 03:30:32</td>\n",
       "      <td>False</td>\n",
       "      <td>September</td>\n",
       "      <td>2012</td>\n",
       "      <td>2011</td>\n",
       "    </tr>\n",
       "    <tr>\n",
       "      <th>2</th>\n",
       "      <td>NaN</td>\n",
       "      <td>NaN</td>\n",
       "      <td>398477318</td>\n",
       "      <td>129377372209299456</td>\n",
       "      <td>2011-10-27 02:02:23</td>\n",
       "      <td>NaN</td>\n",
       "      <td>NaN</td>\n",
       "      <td>NaN</td>\n",
       "      <td>0</td>\n",
       "      <td>1</td>\n",
       "      <td>...</td>\n",
       "      <td>30.0</td>\n",
       "      <td>28</td>\n",
       "      <td>9.0</td>\n",
       "      <td>NaN</td>\n",
       "      <td>en</td>\n",
       "      <td>2011-10-26 03:30:32</td>\n",
       "      <td>False</td>\n",
       "      <td>October</td>\n",
       "      <td>2011</td>\n",
       "      <td>2011</td>\n",
       "    </tr>\n",
       "    <tr>\n",
       "      <th>3</th>\n",
       "      <td>NaN</td>\n",
       "      <td>NaN</td>\n",
       "      <td>398477318</td>\n",
       "      <td>302401054690140160</td>\n",
       "      <td>2013-02-15 12:56:44</td>\n",
       "      <td>NaN</td>\n",
       "      <td>NaN</td>\n",
       "      <td>797583722</td>\n",
       "      <td>0</td>\n",
       "      <td>1</td>\n",
       "      <td>...</td>\n",
       "      <td>30.0</td>\n",
       "      <td>28</td>\n",
       "      <td>9.0</td>\n",
       "      <td>NaN</td>\n",
       "      <td>en</td>\n",
       "      <td>2011-10-26 03:30:32</td>\n",
       "      <td>False</td>\n",
       "      <td>February</td>\n",
       "      <td>2013</td>\n",
       "      <td>2011</td>\n",
       "    </tr>\n",
       "    <tr>\n",
       "      <th>4</th>\n",
       "      <td>NaN</td>\n",
       "      <td>NaN</td>\n",
       "      <td>398477318</td>\n",
       "      <td>249538739611787264</td>\n",
       "      <td>2012-09-22 16:00:46</td>\n",
       "      <td>NaN</td>\n",
       "      <td>NaN</td>\n",
       "      <td>2810549959</td>\n",
       "      <td>0</td>\n",
       "      <td>1</td>\n",
       "      <td>...</td>\n",
       "      <td>30.0</td>\n",
       "      <td>28</td>\n",
       "      <td>9.0</td>\n",
       "      <td>NaN</td>\n",
       "      <td>en</td>\n",
       "      <td>2011-10-26 03:30:32</td>\n",
       "      <td>False</td>\n",
       "      <td>September</td>\n",
       "      <td>2012</td>\n",
       "      <td>2011</td>\n",
       "    </tr>\n",
       "  </tbody>\n",
       "</table>\n",
       "<p>5 rows × 25 columns</p>\n",
       "</div>"
      ],
      "text/plain": [
       "   replyto_userid  retweeted_userid         id             tweetid  \\\n",
       "0             NaN               NaN  398477318  249552537051598848   \n",
       "1             NaN               NaN  398477318  249537963145433088   \n",
       "2             NaN               NaN  398477318  129377372209299456   \n",
       "3             NaN               NaN  398477318  302401054690140160   \n",
       "4             NaN               NaN  398477318  249538739611787264   \n",
       "\n",
       "  created_at_timelines hashtags urls mentions_ids  retweet_count  egoID  ...  \\\n",
       "0  2012-09-22 16:55:35      NaN  NaN   2810549959              0      1  ...   \n",
       "1  2012-09-22 15:57:41      NaN  NaN   2810549959              0      1  ...   \n",
       "2  2011-10-27 02:02:23      NaN  NaN          NaN              0      1  ...   \n",
       "3  2013-02-15 12:56:44      NaN  NaN    797583722              0      1  ...   \n",
       "4  2012-09-22 16:00:46      NaN  NaN   2810549959              0      1  ...   \n",
       "\n",
       "   followers_count  friends_count statuses_count  utc_offset  lang  \\\n",
       "0             30.0             28            9.0         NaN    en   \n",
       "1             30.0             28            9.0         NaN    en   \n",
       "2             30.0             28            9.0         NaN    en   \n",
       "3             30.0             28            9.0         NaN    en   \n",
       "4             30.0             28            9.0         NaN    en   \n",
       "\n",
       "   created_at_profiles  protected  month_post  year_post year_account  \n",
       "0  2011-10-26 03:30:32      False   September       2012         2011  \n",
       "1  2011-10-26 03:30:32      False   September       2012         2011  \n",
       "2  2011-10-26 03:30:32      False     October       2011         2011  \n",
       "3  2011-10-26 03:30:32      False    February       2013         2011  \n",
       "4  2011-10-26 03:30:32      False   September       2012         2011  \n",
       "\n",
       "[5 rows x 25 columns]"
      ]
     },
     "execution_count": 7,
     "metadata": {},
     "output_type": "execute_result"
    }
   ],
   "source": [
    "merged.head()"
   ]
  },
  {
   "cell_type": "markdown",
   "metadata": {},
   "source": [
    "## Barplot of the number of tweets per month\n",
    "\n",
    "We will select only the tweets of a given year, done by user which account was created before the start of this year. This is done as a way to reduce bias as a user whose account was created in June could not have posted any tweets before."
   ]
  },
  {
   "cell_type": "code",
   "execution_count": 8,
   "metadata": {},
   "outputs": [],
   "source": [
    "month_count = merged['month_post'][(merged['year_post'] == 2012) & (merged['year_account'] < 2012)].value_counts()"
   ]
  },
  {
   "cell_type": "code",
   "execution_count": 9,
   "metadata": {},
   "outputs": [
    {
     "data": {
      "text/plain": [
       "Text(0, 0.5, 'Number of tweets')"
      ]
     },
     "execution_count": 9,
     "metadata": {},
     "output_type": "execute_result"
    },
    {
     "data": {
      "image/png": "[encoded data removed]",
      "text/plain": [
       "<Figure size 432x288 with 1 Axes>"
      ]
     },
     "metadata": {
      "needs_background": "light"
     },
     "output_type": "display_data"
    }
   ],
   "source": [
    "month_count.plot.bar()\n",
    "plt.title(\"Number of tweets per month\")\n",
    "plt.xlabel(\"Month\")\n",
    "plt.ylabel(\"Number of tweets\")"
   ]
  },
  {
   "cell_type": "markdown",
   "metadata": {},
   "source": [
    "## Load the data gathered with Twitter API"
   ]
  },
  {
   "cell_type": "code",
   "execution_count": 17,
   "metadata": {},
   "outputs": [],
   "source": [
    "# Let's name the set of new data ego_new_info\n",
    "EGO_NEW_INFO = DIR + \"recent_user_information.csv\"\n",
    "EGO_DEL = DIR + \"deleted_account.csv\"\n",
    "\n",
    "ego_new_info = pd.read_csv(EGO_NEW_INFO, header = 0)\n",
    "ego_del = pd.read_csv(EGO_DEL, header = 0)"
   ]
  },
  {
   "cell_type": "markdown",
   "metadata": {},
   "source": [
    "The columns `id`, `statuses_count`, `followers_count` and `friends_count` are the only ones we will use for the models."
   ]
  },
  {
   "cell_type": "code",
   "execution_count": 24,
   "metadata": {},
   "outputs": [],
   "source": [
    "ego_new_small = ego_new_info[['id', 'statuses_count', 'followers_count', 'friends_count']]\n",
    "merged_small = merged[['id', 'statuses_count', 'followers_count', 'friends_count']].drop_duplicates()"
   ]
  },
  {
   "cell_type": "code",
   "execution_count": 25,
   "metadata": {},
   "outputs": [],
   "source": [
    "active_users = merged_small.merge(ego_new_small, left_on = 'id', right_on = 'id', suffixes = ('_2014', '_2020'))"
   ]
  },
  {
   "cell_type": "code",
   "execution_count": 28,
   "metadata": {},
   "outputs": [
    {
     "data": {
      "text/html": [
       "<div>\n",
       "<style scoped>\n",
       "    .dataframe tbody tr th:only-of-type {\n",
       "        vertical-align: middle;\n",
       "    }\n",
       "\n",
       "    .dataframe tbody tr th {\n",
       "        vertical-align: top;\n",
       "    }\n",
       "\n",
       "    .dataframe thead th {\n",
       "        text-align: right;\n",
       "    }\n",
       "</style>\n",
       "<table border=\"1\" class=\"dataframe\">\n",
       "  <thead>\n",
       "    <tr style=\"text-align: right;\">\n",
       "      <th></th>\n",
       "      <th>id</th>\n",
       "      <th>statuses_count_2014</th>\n",
       "      <th>followers_count_2014</th>\n",
       "      <th>friends_count_2014</th>\n",
       "      <th>statuses_count_2020</th>\n",
       "      <th>followers_count_2020</th>\n",
       "      <th>friends_count_2020</th>\n",
       "    </tr>\n",
       "  </thead>\n",
       "  <tbody>\n",
       "    <tr>\n",
       "      <th>0</th>\n",
       "      <td>194700833</td>\n",
       "      <td>7.0</td>\n",
       "      <td>13.0</td>\n",
       "      <td>9</td>\n",
       "      <td>7</td>\n",
       "      <td>12</td>\n",
       "      <td>9</td>\n",
       "    </tr>\n",
       "    <tr>\n",
       "      <th>1</th>\n",
       "      <td>114163235</td>\n",
       "      <td>6.0</td>\n",
       "      <td>26.0</td>\n",
       "      <td>16</td>\n",
       "      <td>6</td>\n",
       "      <td>29</td>\n",
       "      <td>17</td>\n",
       "    </tr>\n",
       "    <tr>\n",
       "      <th>2</th>\n",
       "      <td>363054646</td>\n",
       "      <td>180.0</td>\n",
       "      <td>6.0</td>\n",
       "      <td>10</td>\n",
       "      <td>268</td>\n",
       "      <td>6</td>\n",
       "      <td>17</td>\n",
       "    </tr>\n",
       "    <tr>\n",
       "      <th>3</th>\n",
       "      <td>294643774</td>\n",
       "      <td>49.0</td>\n",
       "      <td>12.0</td>\n",
       "      <td>45</td>\n",
       "      <td>52</td>\n",
       "      <td>20</td>\n",
       "      <td>53</td>\n",
       "    </tr>\n",
       "    <tr>\n",
       "      <th>4</th>\n",
       "      <td>228786247</td>\n",
       "      <td>18.0</td>\n",
       "      <td>13.0</td>\n",
       "      <td>39</td>\n",
       "      <td>8</td>\n",
       "      <td>16</td>\n",
       "      <td>33</td>\n",
       "    </tr>\n",
       "  </tbody>\n",
       "</table>\n",
       "</div>"
      ],
      "text/plain": [
       "          id  statuses_count_2014  followers_count_2014  friends_count_2014  \\\n",
       "0  194700833                  7.0                  13.0                   9   \n",
       "1  114163235                  6.0                  26.0                  16   \n",
       "2  363054646                180.0                   6.0                  10   \n",
       "3  294643774                 49.0                  12.0                  45   \n",
       "4  228786247                 18.0                  13.0                  39   \n",
       "\n",
       "   statuses_count_2020  followers_count_2020  friends_count_2020  \n",
       "0                    7                    12                   9  \n",
       "1                    6                    29                  17  \n",
       "2                  268                     6                  17  \n",
       "3                   52                    20                  53  \n",
       "4                    8                    16                  33  "
      ]
     },
     "execution_count": 28,
     "metadata": {},
     "output_type": "execute_result"
    }
   ],
   "source": [
    "active_users.head()"
   ]
  },
  {
   "cell_type": "markdown",
   "metadata": {},
   "source": [
    "## Train the models\n",
    "\n",
    "The output we want to predict is always `statuses_count_2020` and we will use all the other columns except for `id` as input."
   ]
  },
  {
   "cell_type": "code",
   "execution_count": 39,
   "metadata": {},
   "outputs": [],
   "source": [
    "features = ['followers_count_2014', 'friends_count_2014', 'statuses_count_2014', 'followers_count_2020', 'friends_count_2020']\n",
    "output = 'statuses_count_2020'"
   ]
  },
  {
   "cell_type": "markdown",
   "metadata": {},
   "source": [
    "To split the data, we will use `train_test_split` from `sklearn` as we did in HW2."
   ]
  },
  {
   "cell_type": "code",
   "execution_count": 31,
   "metadata": {},
   "outputs": [],
   "source": [
    "test_size = 0.7\n",
    "\n",
    "trainset, testset = train_test_split(active_users[features + output], test_size = test_size, shuffle = True)"
   ]
  },
  {
   "cell_type": "markdown",
   "metadata": {},
   "source": [
    "We will try two different models, `GradientBoostingRegressor` and `Ridge`. This follows the same pattern as in HW2, so we won't go into too much details about our steps."
   ]
  },
  {
   "cell_type": "code",
   "execution_count": 42,
   "metadata": {},
   "outputs": [],
   "source": [
    "train_x = trainset[features]\n",
    "train_y = trainset[output]\n",
    "test_x = testset[features]\n",
    "test_y = testset[output]"
   ]
  },
  {
   "cell_type": "code",
   "execution_count": 43,
   "metadata": {},
   "outputs": [
    {
     "data": {
      "text/plain": [
       "GradientBoostingRegressor()"
      ]
     },
     "execution_count": 43,
     "metadata": {},
     "output_type": "execute_result"
    }
   ],
   "source": [
    "gbr = GradientBoostingRegressor()\n",
    "\n",
    "gbr.fit(train_x, train_y)"
   ]
  },
  {
   "cell_type": "code",
   "execution_count": 46,
   "metadata": {},
   "outputs": [],
   "source": [
    "pred_gbr = gbr.predict(test_x)\n",
    "r2_gbr = r2_score(test_y, pred_gbr)"
   ]
  },
  {
   "cell_type": "code",
   "execution_count": 47,
   "metadata": {},
   "outputs": [
    {
     "data": {
      "text/plain": [
       "Ridge()"
      ]
     },
     "execution_count": 47,
     "metadata": {},
     "output_type": "execute_result"
    }
   ],
   "source": [
    "rr = Ridge()\n",
    "\n",
    "rr.fit(train_x, train_y)"
   ]
  },
  {
   "cell_type": "code",
   "execution_count": 48,
   "metadata": {},
   "outputs": [],
   "source": [
    "pred_rr = rr.predict(test_x)\n",
    "r2_rr = r2_score(test_y, pred_rr)"
   ]
  },
  {
   "cell_type": "code",
   "execution_count": 49,
   "metadata": {},
   "outputs": [
    {
     "name": "stdout",
     "output_type": "stream",
     "text": [
      "R² is 0.08006321101982461 for GBR and 0.6815907303318928 for RR\n"
     ]
    }
   ],
   "source": [
    "print(\"R\\u00b2 is {} for GBR and {} for RR\".format(r2_gbr, r2_rr))"
   ]
  },
  {
   "cell_type": "markdown",
   "metadata": {},
   "source": [
    "Ridge regression seems to be a better fit for our task. We will still do some cross validation on GBR just to be sure."
   ]
  },
  {
   "cell_type": "markdown",
   "metadata": {},
   "source": [
    "## Cross-validation\n",
    "\n",
    "Let's do some cross-validation on `learning_rate` and `n_estimators` for `GradientBoostingRegressor`, and on `alpha` for `Ridge`.\n",
    "\n",
    "We will take the same values for `GradientBoostingRegressor` as we did in HW2, and for `Ridge`, we will try some alpha following a log space."
   ]
  },
  {
   "cell_type": "code",
   "execution_count": 68,
   "metadata": {},
   "outputs": [],
   "source": [
    "n_estimators = [50, 75, 100, 150, 200, 250]\n",
    "learning_rates = [0.1, 0.05, 0.01]\n",
    "alpha = np.logspace(-7, 7, 15)"
   ]
  },
  {
   "cell_type": "code",
   "execution_count": 64,
   "metadata": {},
   "outputs": [],
   "source": [
    "values_gbr = pd.DataFrame({'n_estimator': [], 'learning_rate': [], 'R^2': []})\n",
    "for n in n_estimators :\n",
    "    for lr in learning_rates :\n",
    "        new_entry = {'n_estimator': n, 'learning_rate': lr, 'R^2':0}\n",
    "        temp_gbr = GradientBoostingRegressor(n_estimators = n, learning_rate = lr)\n",
    "        pred = cross_val_predict(temp_gbr, train_x, train_y, cv = 20)\n",
    "        new_entry['R^2'] = r2_score(train_y, pred)\n",
    "        values_gbr = values_gbr.append(new_entry, ignore_index = True)"
   ]
  },
  {
   "cell_type": "code",
   "execution_count": 65,
   "metadata": {},
   "outputs": [
    {
     "data": {
      "text/html": [
       "<div>\n",
       "<style scoped>\n",
       "    .dataframe tbody tr th:only-of-type {\n",
       "        vertical-align: middle;\n",
       "    }\n",
       "\n",
       "    .dataframe tbody tr th {\n",
       "        vertical-align: top;\n",
       "    }\n",
       "\n",
       "    .dataframe thead th {\n",
       "        text-align: right;\n",
       "    }\n",
       "</style>\n",
       "<table border=\"1\" class=\"dataframe\">\n",
       "  <thead>\n",
       "    <tr style=\"text-align: right;\">\n",
       "      <th></th>\n",
       "      <th>n_estimator</th>\n",
       "      <th>learning_rate</th>\n",
       "      <th>R^2</th>\n",
       "    </tr>\n",
       "  </thead>\n",
       "  <tbody>\n",
       "    <tr>\n",
       "      <th>0</th>\n",
       "      <td>50.0</td>\n",
       "      <td>0.10</td>\n",
       "      <td>0.555701</td>\n",
       "    </tr>\n",
       "    <tr>\n",
       "      <th>1</th>\n",
       "      <td>50.0</td>\n",
       "      <td>0.05</td>\n",
       "      <td>0.540745</td>\n",
       "    </tr>\n",
       "    <tr>\n",
       "      <th>2</th>\n",
       "      <td>50.0</td>\n",
       "      <td>0.01</td>\n",
       "      <td>0.349160</td>\n",
       "    </tr>\n",
       "    <tr>\n",
       "      <th>3</th>\n",
       "      <td>75.0</td>\n",
       "      <td>0.10</td>\n",
       "      <td>0.562714</td>\n",
       "    </tr>\n",
       "    <tr>\n",
       "      <th>4</th>\n",
       "      <td>75.0</td>\n",
       "      <td>0.05</td>\n",
       "      <td>0.551813</td>\n",
       "    </tr>\n",
       "    <tr>\n",
       "      <th>5</th>\n",
       "      <td>75.0</td>\n",
       "      <td>0.01</td>\n",
       "      <td>0.427914</td>\n",
       "    </tr>\n",
       "    <tr>\n",
       "      <th>6</th>\n",
       "      <td>100.0</td>\n",
       "      <td>0.10</td>\n",
       "      <td>0.559207</td>\n",
       "    </tr>\n",
       "    <tr>\n",
       "      <th>7</th>\n",
       "      <td>100.0</td>\n",
       "      <td>0.05</td>\n",
       "      <td>0.546565</td>\n",
       "    </tr>\n",
       "    <tr>\n",
       "      <th>8</th>\n",
       "      <td>100.0</td>\n",
       "      <td>0.01</td>\n",
       "      <td>0.475003</td>\n",
       "    </tr>\n",
       "    <tr>\n",
       "      <th>9</th>\n",
       "      <td>150.0</td>\n",
       "      <td>0.10</td>\n",
       "      <td>0.565949</td>\n",
       "    </tr>\n",
       "    <tr>\n",
       "      <th>10</th>\n",
       "      <td>150.0</td>\n",
       "      <td>0.05</td>\n",
       "      <td>0.546343</td>\n",
       "    </tr>\n",
       "    <tr>\n",
       "      <th>11</th>\n",
       "      <td>150.0</td>\n",
       "      <td>0.01</td>\n",
       "      <td>0.528912</td>\n",
       "    </tr>\n",
       "    <tr>\n",
       "      <th>12</th>\n",
       "      <td>200.0</td>\n",
       "      <td>0.10</td>\n",
       "      <td>0.556164</td>\n",
       "    </tr>\n",
       "    <tr>\n",
       "      <th>13</th>\n",
       "      <td>200.0</td>\n",
       "      <td>0.05</td>\n",
       "      <td>0.552483</td>\n",
       "    </tr>\n",
       "    <tr>\n",
       "      <th>14</th>\n",
       "      <td>200.0</td>\n",
       "      <td>0.01</td>\n",
       "      <td>0.546486</td>\n",
       "    </tr>\n",
       "    <tr>\n",
       "      <th>15</th>\n",
       "      <td>250.0</td>\n",
       "      <td>0.10</td>\n",
       "      <td>0.554530</td>\n",
       "    </tr>\n",
       "    <tr>\n",
       "      <th>16</th>\n",
       "      <td>250.0</td>\n",
       "      <td>0.05</td>\n",
       "      <td>0.556855</td>\n",
       "    </tr>\n",
       "    <tr>\n",
       "      <th>17</th>\n",
       "      <td>250.0</td>\n",
       "      <td>0.01</td>\n",
       "      <td>0.555478</td>\n",
       "    </tr>\n",
       "  </tbody>\n",
       "</table>\n",
       "</div>"
      ],
      "text/plain": [
       "    n_estimator  learning_rate       R^2\n",
       "0          50.0           0.10  0.555701\n",
       "1          50.0           0.05  0.540745\n",
       "2          50.0           0.01  0.349160\n",
       "3          75.0           0.10  0.562714\n",
       "4          75.0           0.05  0.551813\n",
       "5          75.0           0.01  0.427914\n",
       "6         100.0           0.10  0.559207\n",
       "7         100.0           0.05  0.546565\n",
       "8         100.0           0.01  0.475003\n",
       "9         150.0           0.10  0.565949\n",
       "10        150.0           0.05  0.546343\n",
       "11        150.0           0.01  0.528912\n",
       "12        200.0           0.10  0.556164\n",
       "13        200.0           0.05  0.552483\n",
       "14        200.0           0.01  0.546486\n",
       "15        250.0           0.10  0.554530\n",
       "16        250.0           0.05  0.556855\n",
       "17        250.0           0.01  0.555478"
      ]
     },
     "execution_count": 65,
     "metadata": {},
     "output_type": "execute_result"
    }
   ],
   "source": [
    "values_gbr"
   ]
  },
  {
   "cell_type": "code",
   "execution_count": 69,
   "metadata": {},
   "outputs": [],
   "source": [
    "values_rr = pd.DataFrame({'alpha': [], 'R^2': []})\n",
    "for a in alpha :\n",
    "    new_entry = {'alpha': a, 'R^2': 0}\n",
    "    temp_rr = Ridge(alpha = a)\n",
    "    pred = cross_val_predict(temp_rr, train_x, train_y, cv = 20)\n",
    "    new_entry['R^2'] = r2_score(train_y, pred)\n",
    "    values_rr = values_rr.append(new_entry, ignore_index = True)"
   ]
  },
  {
   "cell_type": "code",
   "execution_count": 70,
   "metadata": {},
   "outputs": [
    {
     "data": {
      "text/html": [
       "<div>\n",
       "<style scoped>\n",
       "    .dataframe tbody tr th:only-of-type {\n",
       "        vertical-align: middle;\n",
       "    }\n",
       "\n",
       "    .dataframe tbody tr th {\n",
       "        vertical-align: top;\n",
       "    }\n",
       "\n",
       "    .dataframe thead th {\n",
       "        text-align: right;\n",
       "    }\n",
       "</style>\n",
       "<table border=\"1\" class=\"dataframe\">\n",
       "  <thead>\n",
       "    <tr style=\"text-align: right;\">\n",
       "      <th></th>\n",
       "      <th>alpha</th>\n",
       "      <th>R^2</th>\n",
       "    </tr>\n",
       "  </thead>\n",
       "  <tbody>\n",
       "    <tr>\n",
       "      <th>0</th>\n",
       "      <td>1.000000e-07</td>\n",
       "      <td>0.633703</td>\n",
       "    </tr>\n",
       "    <tr>\n",
       "      <th>1</th>\n",
       "      <td>1.000000e-06</td>\n",
       "      <td>0.633703</td>\n",
       "    </tr>\n",
       "    <tr>\n",
       "      <th>2</th>\n",
       "      <td>1.000000e-05</td>\n",
       "      <td>0.633703</td>\n",
       "    </tr>\n",
       "    <tr>\n",
       "      <th>3</th>\n",
       "      <td>1.000000e-04</td>\n",
       "      <td>0.633703</td>\n",
       "    </tr>\n",
       "    <tr>\n",
       "      <th>4</th>\n",
       "      <td>1.000000e-03</td>\n",
       "      <td>0.633703</td>\n",
       "    </tr>\n",
       "    <tr>\n",
       "      <th>5</th>\n",
       "      <td>1.000000e-02</td>\n",
       "      <td>0.633703</td>\n",
       "    </tr>\n",
       "    <tr>\n",
       "      <th>6</th>\n",
       "      <td>1.000000e-01</td>\n",
       "      <td>0.633703</td>\n",
       "    </tr>\n",
       "    <tr>\n",
       "      <th>7</th>\n",
       "      <td>1.000000e+00</td>\n",
       "      <td>0.633703</td>\n",
       "    </tr>\n",
       "    <tr>\n",
       "      <th>8</th>\n",
       "      <td>1.000000e+01</td>\n",
       "      <td>0.633703</td>\n",
       "    </tr>\n",
       "    <tr>\n",
       "      <th>9</th>\n",
       "      <td>1.000000e+02</td>\n",
       "      <td>0.633704</td>\n",
       "    </tr>\n",
       "    <tr>\n",
       "      <th>10</th>\n",
       "      <td>1.000000e+03</td>\n",
       "      <td>0.633704</td>\n",
       "    </tr>\n",
       "    <tr>\n",
       "      <th>11</th>\n",
       "      <td>1.000000e+04</td>\n",
       "      <td>0.633707</td>\n",
       "    </tr>\n",
       "    <tr>\n",
       "      <th>12</th>\n",
       "      <td>1.000000e+05</td>\n",
       "      <td>0.633744</td>\n",
       "    </tr>\n",
       "    <tr>\n",
       "      <th>13</th>\n",
       "      <td>1.000000e+06</td>\n",
       "      <td>0.634102</td>\n",
       "    </tr>\n",
       "    <tr>\n",
       "      <th>14</th>\n",
       "      <td>1.000000e+07</td>\n",
       "      <td>0.637445</td>\n",
       "    </tr>\n",
       "  </tbody>\n",
       "</table>\n",
       "</div>"
      ],
      "text/plain": [
       "           alpha       R^2\n",
       "0   1.000000e-07  0.633703\n",
       "1   1.000000e-06  0.633703\n",
       "2   1.000000e-05  0.633703\n",
       "3   1.000000e-04  0.633703\n",
       "4   1.000000e-03  0.633703\n",
       "5   1.000000e-02  0.633703\n",
       "6   1.000000e-01  0.633703\n",
       "7   1.000000e+00  0.633703\n",
       "8   1.000000e+01  0.633703\n",
       "9   1.000000e+02  0.633704\n",
       "10  1.000000e+03  0.633704\n",
       "11  1.000000e+04  0.633707\n",
       "12  1.000000e+05  0.633744\n",
       "13  1.000000e+06  0.634102\n",
       "14  1.000000e+07  0.637445"
      ]
     },
     "execution_count": 70,
     "metadata": {},
     "output_type": "execute_result"
    }
   ],
   "source": [
    "values_rr"
   ]
  },
  {
   "cell_type": "code",
   "execution_count": 72,
   "metadata": {},
   "outputs": [
    {
     "data": {
      "text/plain": [
       "array([  27.54302211,  264.26750934,   27.54302211, ...,  178.57786811,\n",
       "         27.54302211, 1651.71052379])"
      ]
     },
     "execution_count": 72,
     "metadata": {},
     "output_type": "execute_result"
    }
   ],
   "source": [
    "pred_gbr"
   ]
  },
  {
   "cell_type": "code",
   "execution_count": null,
   "metadata": {},
   "outputs": [],
   "source": []
  }
 ],
 "metadata": {
  "kernelspec": {
   "display_name": "Python 3",
   "language": "python",
   "name": "python3"
  },
  "language_info": {
   "codemirror_mode": {
    "name": "ipython",
    "version": 3
   },
   "file_extension": ".py",
   "mimetype": "text/x-python",
   "name": "python",
   "nbconvert_exporter": "python",
   "pygments_lexer": "ipython3",
   "version": "3.8.5"
  }
 },
 "nbformat": 4,
 "nbformat_minor": 4
}
